{
 "cells": [
  {
   "cell_type": "markdown",
   "id": "b3e6329e",
   "metadata": {},
   "source": [
    "# Lab 2: Control Structures and Functions\n",
    "AYTS5001 - Programming for Analytics"
   ]
  },
  {
   "cell_type": "code",
   "execution_count": 11,
   "id": "33f8b10a-5efa-4a68-9606-fb952a3da2dc",
   "metadata": {},
   "outputs": [],
   "source": [
    "import re"
   ]
  },
  {
   "cell_type": "markdown",
   "id": "a147fd29",
   "metadata": {},
   "source": [
    "## Task 1: Even or Odd Number Checker"
   ]
  },
  {
   "cell_type": "code",
   "execution_count": 4,
   "id": "3bf2868b",
   "metadata": {},
   "outputs": [
    {
     "name": "stdin",
     "output_type": "stream",
     "text": [
      "Enter a number 5\n"
     ]
    },
    {
     "name": "stdout",
     "output_type": "stream",
     "text": [
      "Odd number\n"
     ]
    }
   ],
   "source": [
    "x = int(input(\"Enter a number\"))\n",
    "if(x % 2) == 0:\n",
    "    print(\"Even number\")\n",
    "else:\n",
    "    print(\"Odd number\")\n"
   ]
  },
  {
   "cell_type": "markdown",
   "id": "06cc0422",
   "metadata": {},
   "source": [
    "## Task 2: Multiples of 3"
   ]
  },
  {
   "cell_type": "code",
   "execution_count": 14,
   "id": "79828c1c",
   "metadata": {},
   "outputs": [
    {
     "name": "stdout",
     "output_type": "stream",
     "text": [
      "3\n",
      "6\n",
      "9\n",
      "12\n",
      "15\n",
      "18\n",
      "21\n",
      "24\n",
      "27\n",
      "30\n",
      "33\n",
      "36\n",
      "39\n",
      "42\n",
      "45\n",
      "48\n"
     ]
    }
   ],
   "source": [
    "for i in range(1,51):\n",
    "    if i%3==0:\n",
    "        print(i)\n"
   ]
  },
  {
   "cell_type": "markdown",
   "id": "6430dd4f",
   "metadata": {},
   "source": [
    "## Task 3: Password Strength Checker"
   ]
  },
  {
   "cell_type": "code",
   "execution_count": 48,
   "id": "b7a00267",
   "metadata": {},
   "outputs": [
    {
     "name": "stdin",
     "output_type": "stream",
     "text": [
      "Enter a password  rtfsyigfrstuv5\n"
     ]
    },
    {
     "name": "stdout",
     "output_type": "stream",
     "text": [
      "Invalid password\n",
      "Password should contain atleast one special character\n"
     ]
    }
   ],
   "source": [
    "x = input(\"Enter a password \")\n",
    "invalid_conditions =[]\n",
    "if len(x)<8:\n",
    "    invalid_conditions.append(\"Length should be >=8\")\n",
    "if not bool(re.search(r'\\d', x)):\n",
    "    invalid_conditions.append(\"Password should contain atleast one number\")\n",
    "if not bool(re.search(r'[^a-zA-Z0-9]', x)):\n",
    "    invalid_conditions.append(\"Password should contain atleast one special character\")\n",
    "\n",
    "if invalid_conditions:\n",
    "    print(\"Invalid password\")\n",
    "    for condition in invalid_conditions:\n",
    "        print(condition)\n",
    "else:\n",
    "    print(\"Valid password\")\n"
   ]
  },
  {
   "cell_type": "markdown",
   "id": "ff49a53b",
   "metadata": {},
   "source": [
    "## Task 4: FizzBuzz"
   ]
  },
  {
   "cell_type": "code",
   "execution_count": 17,
   "id": "c43f838c",
   "metadata": {},
   "outputs": [
    {
     "name": "stdout",
     "output_type": "stream",
     "text": [
      "1\n",
      "2\n",
      "Fizz\n",
      "4\n",
      "Buzz\n",
      "Fizz\n",
      "7\n",
      "8\n",
      "Fizz\n",
      "Buzz\n",
      "11\n",
      "Fizz\n",
      "13\n",
      "14\n",
      "FizzBuzz\n",
      "16\n",
      "17\n",
      "Fizz\n",
      "19\n",
      "Buzz\n",
      "Fizz\n",
      "22\n",
      "23\n",
      "Fizz\n",
      "Buzz\n",
      "26\n",
      "Fizz\n",
      "28\n",
      "29\n",
      "FizzBuzz\n",
      "31\n",
      "32\n",
      "Fizz\n",
      "34\n",
      "Buzz\n",
      "Fizz\n",
      "37\n",
      "38\n",
      "Fizz\n",
      "Buzz\n",
      "41\n",
      "Fizz\n",
      "43\n",
      "44\n",
      "FizzBuzz\n",
      "46\n",
      "47\n",
      "Fizz\n",
      "49\n"
     ]
    }
   ],
   "source": [
    "for i in range(1,51):\n",
    "    if i%3==0 and i%5==0:\n",
    "        print(\"FizzBuzz\")\n",
    "    elif i%3==0:\n",
    "        print(\"Fizz\")\n",
    "    elif i%5==0:\n",
    "        print(\"Buzz\")\n",
    "    else:\n",
    "        print(i)\n"
   ]
  },
  {
   "cell_type": "markdown",
   "id": "a9f5792b",
   "metadata": {},
   "source": [
    "## Task 5: Temperature Conversion Table"
   ]
  },
  {
   "cell_type": "code",
   "execution_count": 23,
   "id": "b4dfb707",
   "metadata": {},
   "outputs": [
    {
     "name": "stdin",
     "output_type": "stream",
     "text": [
      "Enter starting temperature. 3\n",
      "Enter ending temperature. 10\n"
     ]
    },
    {
     "name": "stdout",
     "output_type": "stream",
     "text": [
      "3 Celsius is 37.4 Fahrenheit\n",
      "4 Celsius is 39.2 Fahrenheit\n",
      "5 Celsius is 41.0 Fahrenheit\n",
      "6 Celsius is 42.8 Fahrenheit\n",
      "7 Celsius is 44.6 Fahrenheit\n",
      "8 Celsius is 46.4 Fahrenheit\n",
      "9 Celsius is 48.2 Fahrenheit\n",
      "10 Celsius is 50.0 Fahrenheit\n"
     ]
    }
   ],
   "source": [
    "def temp_converter(start,end):\n",
    "    f = 0;\n",
    "    for i in range(start,end+1):\n",
    "        f = ((i*9)/5)+32\t\n",
    "        print(f\"{i} Celsius is {f} Fahrenheit\")\n",
    "\n",
    "x = int(input(\"Enter starting temperature.\"))\n",
    "y = int(input(\"Enter ending temperature.\"))\n",
    "\n",
    "temp_converter(x,y)\n"
   ]
  },
  {
   "cell_type": "markdown",
   "id": "16e39932",
   "metadata": {},
   "source": [
    "## Task 6: Factorial with Input Validation"
   ]
  },
  {
   "cell_type": "code",
   "execution_count": 39,
   "id": "9b8ce5e9",
   "metadata": {},
   "outputs": [
    {
     "name": "stdin",
     "output_type": "stream",
     "text": [
      "Enter a number 6\n"
     ]
    },
    {
     "name": "stdout",
     "output_type": "stream",
     "text": [
      "720\n"
     ]
    }
   ],
   "source": [
    "def factorial(num):\n",
    "    if num == 0 or num == 1:\n",
    "        return 1\n",
    "    else:\n",
    "        return num * factorial(num - 1)\n",
    "\n",
    "x = int(input(\"Enter a number\"))\n",
    "if x < 0:\n",
    "    print(\"Error: Negative number\")\n",
    "else:\n",
    "    print(factorial(x))\n"
   ]
  },
  {
   "cell_type": "markdown",
   "id": "eea49219",
   "metadata": {},
   "source": [
    "## Task 7: Prime Number Checker"
   ]
  },
  {
   "cell_type": "code",
   "execution_count": 44,
   "id": "46daff6a",
   "metadata": {},
   "outputs": [
    {
     "name": "stdin",
     "output_type": "stream",
     "text": [
      "Enter a number 7\n"
     ]
    },
    {
     "name": "stdout",
     "output_type": "stream",
     "text": [
      "Prime number\n"
     ]
    }
   ],
   "source": [
    "def prime_check(num):\n",
    "    count = 1;\n",
    "    for i in range(2,num+1):\n",
    "        if num % i == 0:\n",
    "            count += 1\n",
    "    if(count>2):\n",
    "        print(\"Not Prime number\")\n",
    "    else:\n",
    "        print(\"Prime number\")\n",
    "    \n",
    "x = int(input(\"Enter a number\"))\n",
    "if x<=1:\n",
    "    print(\"Invalid input - Input cannot be zero, one or a negative number\")\n",
    "else:\n",
    "    prime_check(x)\n"
   ]
  },
  {
   "cell_type": "code",
   "execution_count": null,
   "id": "e474fc53-3da4-425f-8ba0-c04a24306e72",
   "metadata": {},
   "outputs": [],
   "source": []
  }
 ],
 "metadata": {
  "kernelspec": {
   "display_name": "Python 3 (ipykernel)",
   "language": "python",
   "name": "python3"
  },
  "language_info": {
   "codemirror_mode": {
    "name": "ipython",
    "version": 3
   },
   "file_extension": ".py",
   "mimetype": "text/x-python",
   "name": "python",
   "nbconvert_exporter": "python",
   "pygments_lexer": "ipython3",
   "version": "3.13.7"
  }
 },
 "nbformat": 4,
 "nbformat_minor": 5
}
