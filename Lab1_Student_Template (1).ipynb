{
 "cells": [
  {
   "cell_type": "markdown",
   "id": "82e146db",
   "metadata": {},
   "source": [
    "# AYTS 5001 - Lab 1 Template\n",
    "**Getting Started with Python**\n",
    "\n",
    "Fill in the code cells below as you work through the lab tasks."
   ]
  },
  {
   "cell_type": "markdown",
   "id": "77367188",
   "metadata": {},
   "source": [
    "## 1. Environment Setup\n",
    "Run the cell below to confirm your environment works by printing out \"Hello, world!\":"
   ]
  },
  {
   "cell_type": "code",
   "execution_count": 1,
   "id": "22c707df",
   "metadata": {},
   "outputs": [
    {
     "name": "stdout",
     "output_type": "stream",
     "text": [
      "Hello World\n"
     ]
    }
   ],
   "source": [
    "# Your code here\n",
    "print(\"Hello World\")\n"
   ]
  },
  {
   "cell_type": "markdown",
   "id": "43cb7a5d",
   "metadata": {},
   "source": [
    "## 2. Variables and Data Types\n",
    "Create and print variables with different data types."
   ]
  },
  {
   "cell_type": "code",
   "execution_count": 13,
   "id": "bbb49404",
   "metadata": {},
   "outputs": [
    {
     "name": "stdout",
     "output_type": "stream",
     "text": [
      "5 3.5 test string True\n"
     ]
    }
   ],
   "source": [
    "# Your code here\n",
    "x = 5\n",
    "y = 3.5\n",
    "z = 'test string'\n",
    "a = True\n",
    "\n",
    "print(x,y,z,a)"
   ]
  },
  {
   "cell_type": "markdown",
   "id": "51edfac6",
   "metadata": {},
   "source": [
    "## 3. Input and Output\n",
    "Use input() and print() to interact with the user."
   ]
  },
  {
   "cell_type": "code",
   "execution_count": 14,
   "id": "fdfbea71",
   "metadata": {},
   "outputs": [
    {
     "name": "stdin",
     "output_type": "stream",
     "text": [
      "Enter your favourite colour:  Black\n"
     ]
    },
    {
     "name": "stdout",
     "output_type": "stream",
     "text": [
      "Black\n"
     ]
    }
   ],
   "source": [
    "# Your code here\n",
    "x = input(\"Enter your favourite colour: \")\n",
    "\n",
    "print(x)"
   ]
  },
  {
   "cell_type": "markdown",
   "id": "a5916c24",
   "metadata": {},
   "source": [
    "## 4. Expressions and Calculations\n",
    "Write a program that calculates the area and perimeter of a rectangle."
   ]
  },
  {
   "cell_type": "code",
   "execution_count": 15,
   "id": "6a27b529",
   "metadata": {},
   "outputs": [
    {
     "name": "stdin",
     "output_type": "stream",
     "text": [
      "Enter Length  5\n",
      "Enter Breadth  3\n"
     ]
    },
    {
     "name": "stdout",
     "output_type": "stream",
     "text": [
      "Area is  15\n",
      "Perimeter is  16\n"
     ]
    }
   ],
   "source": [
    "# Your code here\n",
    "x = int(input(\"Enter Length \"))\n",
    "y = int(input(\"Enter Breadth \"))\n",
    "\n",
    "print(\"Area is \", x*y)\n",
    "print(\"Perimeter is \", 2*(x+y))\n"
   ]
  },
  {
   "cell_type": "markdown",
   "id": "b1452e25",
   "metadata": {},
   "source": [
    "## 5. Git Basics\n",
    "(Write down Git commands you used or plan to use.)"
   ]
  },
  {
   "cell_type": "code",
   "execution_count": null,
   "id": "5ed8bb2e",
   "metadata": {},
   "outputs": [],
   "source": [
    "# This section can include shell commands or notes\n",
    "git clone\n",
    "git checkout\n",
    "git pull\n",
    "git commit\n",
    "git push\n",
    "\n",
    "\n",
    "\n"
   ]
  },
  {
   "cell_type": "markdown",
   "id": "b152a45d",
   "metadata": {},
   "source": [
    "## 6. Extension Challenge: BMI Calculator\n",
    "(Optional) Write a program to calculate and print the BMI."
   ]
  },
  {
   "cell_type": "code",
   "execution_count": 17,
   "id": "e215a357",
   "metadata": {},
   "outputs": [
    {
     "name": "stdin",
     "output_type": "stream",
     "text": [
      "Enter your weight in kg  58\n",
      "Enter your height in m 1.58\n"
     ]
    },
    {
     "name": "stdout",
     "output_type": "stream",
     "text": [
      "BMI is equal to  23.233456176894723\n"
     ]
    }
   ],
   "source": [
    "# Your code here\n",
    "weight = int(input(\"Enter your weight in kg \"))\n",
    "height = float(input(\"Enter your height in m\"))\n",
    "\n",
    "print(\"BMI is equal to \", weight/(height**2))\n"
   ]
  },
  {
   "cell_type": "code",
   "execution_count": null,
   "id": "d3842e3c-cb81-410d-8f77-f90da8adcd31",
   "metadata": {},
   "outputs": [],
   "source": []
  }
 ],
 "metadata": {
  "kernelspec": {
   "display_name": "Python 3 (ipykernel)",
   "language": "python",
   "name": "python3"
  },
  "language_info": {
   "codemirror_mode": {
    "name": "ipython",
    "version": 3
   },
   "file_extension": ".py",
   "mimetype": "text/x-python",
   "name": "python",
   "nbconvert_exporter": "python",
   "pygments_lexer": "ipython3",
   "version": "3.13.7"
  }
 },
 "nbformat": 4,
 "nbformat_minor": 5
}
